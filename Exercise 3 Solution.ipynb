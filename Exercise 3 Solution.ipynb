{
 "cells": [
  {
   "cell_type": "code",
   "execution_count": 81,
   "metadata": {},
   "outputs": [],
   "source": [
    "# header to start\n",
    "# %matplotlib notebook\n",
    "\n",
    "import numpy as np\n",
    "import matplotlib.pyplot as plt\n",
    "import matplotlib.animation as animation\n",
    "import matplotlib as mp\n",
    "\n",
    "# import pickle\n",
    "import IPython\n",
    "import ffmpeg\n",
    "\n",
    "import scipy.linalg"
   ]
  },
  {
   "cell_type": "markdown",
   "metadata": {},
   "source": [
    "## Question1 \n",
    "Please refer to ex3_1.py(just python ex3_1.py). The simulation will be based on the selected spanning tree. The final simulation result will be the same as the expected shape without rotation, and only one result. The complete graph will connverge faster. The final result is shown in figure ex3_1_final.png"
   ]
  },
  {
   "cell_type": "markdown",
   "metadata": {},
   "source": [
    "## Question2 \n",
    "Please refer to ex3_2.py(just python ex3_2.py). The result varies, there are two possible results. the complete graph will be only one result and vonverge faster. The good result is shown in ex3_2_1.png and the bad result is shown in ex3_2_2.png\n",
    "All the initial points in Question2 and Question3 are randomly generated using the random module in python."
   ]
  },
  {
   "cell_type": "markdown",
   "metadata": {},
   "source": [
    "## Question3\n",
    "The control law in Question1 is based on the relative states, it needs the absolute position and won't allow rotation, the control law in Question2 is based on the rigidity, it allows rotation but the result could be problematic."
   ]
  },
  {
   "cell_type": "code",
   "execution_count": null,
   "metadata": {},
   "outputs": [],
   "source": []
  }
 ],
 "metadata": {
  "kernelspec": {
   "display_name": "Python 3",
   "language": "python",
   "name": "python3"
  },
  "language_info": {
   "codemirror_mode": {
    "name": "ipython",
    "version": 3
   },
   "file_extension": ".py",
   "mimetype": "text/x-python",
   "name": "python",
   "nbconvert_exporter": "python",
   "pygments_lexer": "ipython3",
   "version": "3.7.3"
  }
 },
 "nbformat": 4,
 "nbformat_minor": 2
}
