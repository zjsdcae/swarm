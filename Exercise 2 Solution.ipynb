{
 "cells": [
  {
   "cell_type": "markdown",
   "metadata": {},
   "source": [
    "# Exercise 2 "
   ]
  },
  {
   "cell_type": "markdown",
   "metadata": {},
   "source": [
    "## Question 1 Compute the rigidity matrix."
   ]
  },
  {
   "cell_type": "code",
   "execution_count": 12,
   "metadata": {},
   "outputs": [],
   "source": [
    "import numpy as np"
   ]
  },
  {
   "cell_type": "code",
   "execution_count": 13,
   "metadata": {},
   "outputs": [
    {
     "name": "stdout",
     "output_type": "stream",
     "text": [
      "[[-2.    0.   -2.    0.    0.    0.    0.    0.  ]\n",
      " [-2.    2.    0.    0.   -2.    2.    0.    0.  ]\n",
      " [ 0.48  2.48  0.    0.    0.    0.    0.48  2.48]\n",
      " [ 0.    0.    0.    2.    0.    2.    0.    0.  ]\n",
      " [ 0.    0.    0.    0.    2.48  0.48  2.48  0.48]]\n"
     ]
    },
    {
     "data": {
      "text/plain": [
       "5"
      ]
     },
     "execution_count": 13,
     "metadata": {},
     "output_type": "execute_result"
    }
   ],
   "source": [
    "def get_rigidity_matrix(E, pos):\n",
    "    # E for the origin graph, pos for the position and N for the number of nodes\n",
    "    len_row = len(E)\n",
    "    len_col = len(pos)\n",
    "    N = int(len_col/2)\n",
    "    pos_vec = np.reshape(pos,(N,2))\n",
    "    \n",
    "    rigidity_matrix = np.matrix(np.zeros((len_row,len_col)))\n",
    "    pos_re = np.reshape(pos,(N,2))\n",
    "    \n",
    "    for i,edge in enumerate(E):\n",
    "        m1, m2 = edge[0], edge[1]    \n",
    "        [rigidity_matrix[i, 2*m1], rigidity_matrix[i,2*m1+1]] = 2*(pos_re[m1]-pos_re[m2])\n",
    "        [rigidity_matrix[i, 2*m2], rigidity_matrix[i,2*m2+1]] = 2*(pos_re[m1]-pos_re[m2])\n",
    "    return rigidity_matrix\n",
    "\n",
    "E = [[0,1],[0,2],[0,3],[1,2],[2,3]]\n",
    "pos = [0,0,1,0,1,-1,-0.24,-1.24]\n",
    "\n",
    "res = get_rigidity_matrix(E,pos)\n",
    "print(res)\n",
    "np.linalg.matrix_rank(res)"
   ]
  },
  {
   "cell_type": "markdown",
   "metadata": {},
   "source": [
    "The dimension of its kernel is 3, the dimension of its range space is 5. "
   ]
  },
  {
   "cell_type": "markdown",
   "metadata": {},
   "source": [
    "## Question 2 \n",
    "2 directions of motions are there that do preserve the distance constraints."
   ]
  },
  {
   "cell_type": "markdown",
   "metadata": {},
   "source": [
    "## Question 3"
   ]
  },
  {
   "cell_type": "markdown",
   "metadata": {},
   "source": [
    "First of all, according to the three vector, [1, 0, 1, 0, 1, 0, 1, 0].T, [0, 1, 0, 1, 0, 1, 0, 1].T and the rotation are linearly innndependent. The combination of these could be applied to the null space of the matrix."
   ]
  },
  {
   "cell_type": "code",
   "execution_count": 14,
   "metadata": {},
   "outputs": [
    {
     "name": "stdout",
     "output_type": "stream",
     "text": [
      "[[ 0.35214225  0.17310515 -0.43640074]\n",
      " [-0.27690522 -0.25503959 -0.49996775]\n",
      " [-0.35214225 -0.17310515  0.43640074]\n",
      " [-0.55411976  0.19189729 -0.02327856]\n",
      " [-0.07492772 -0.62004203 -0.04028844]\n",
      " [ 0.55411976 -0.19189729  0.02327856]\n",
      " [-0.07555458  0.63821374 -0.08034275]\n",
      " [ 0.22337212  0.09801012  0.59998262]]\n"
     ]
    }
   ],
   "source": [
    "from numpy.linalg import svd\n",
    "def nullspace(A, atol=1e-10, rtol=0):\n",
    "    A = np.atleast_2d(A)\n",
    "    u, s, vh = svd(A)\n",
    "    tol = max(atol, rtol * s[0])\n",
    "    nnz = (s >= tol).sum()\n",
    "    ns = vh[nnz:].conj().T\n",
    "    return ns\n",
    "print(nullspace(res))"
   ]
  },
  {
   "cell_type": "code",
   "execution_count": null,
   "metadata": {},
   "outputs": [],
   "source": []
  },
  {
   "cell_type": "code",
   "execution_count": null,
   "metadata": {},
   "outputs": [],
   "source": []
  }
 ],
 "metadata": {
  "kernelspec": {
   "display_name": "Python 3",
   "language": "python",
   "name": "python3"
  },
  "language_info": {
   "codemirror_mode": {
    "name": "ipython",
    "version": 3
   },
   "file_extension": ".py",
   "mimetype": "text/x-python",
   "name": "python",
   "nbconvert_exporter": "python",
   "pygments_lexer": "ipython3",
   "version": "3.7.3"
  }
 },
 "nbformat": 4,
 "nbformat_minor": 2
}
